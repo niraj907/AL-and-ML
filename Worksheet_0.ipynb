{
  "nbformat": 4,
  "nbformat_minor": 0,
  "metadata": {
    "colab": {
      "provenance": [],
      "collapsed_sections": [
        "J3fUZtulL2tf",
        "xZ18KvObmqkh",
        "4xSYMuxZMRlT",
        "5pXFS_hloJ68"
      ]
    },
    "kernelspec": {
      "name": "python3",
      "display_name": "Python 3"
    },
    "language_info": {
      "name": "python"
    }
  },
  "cells": [
    {
      "cell_type": "markdown",
      "source": [
        "# Worksheet- 0\n",
        "**Name:** Niraj Chaudhary  \n",
        "**Group:** LG16\n"
      ],
      "metadata": {
        "id": "BDOB4iTp7OOk"
      }
    },
    {
      "cell_type": "markdown",
      "source": [
        "# 4.1 Exercise on Functions"
      ],
      "metadata": {
        "id": "J3fUZtulL2tf"
      }
    },
    {
      "cell_type": "markdown",
      "source": [
        "## Create a Python program that converts between different units of measurement."
      ],
      "metadata": {
        "id": "xZ18KvObmqkh"
      }
    },
    {
      "cell_type": "code",
      "execution_count": null,
      "metadata": {
        "colab": {
          "base_uri": "https://localhost:8080/"
        },
        "id": "IrSq_G-mmc-Q",
        "outputId": "805e6af0-b5aa-4317-f75e-79160128e230"
      },
      "outputs": [
        {
          "output_type": "stream",
          "name": "stdout",
          "text": [
            "Choose the type of conversion:\n",
            "1. Length\n",
            "2. Weight\n",
            "3. Volume\n",
            "Enter length, weight, or volume: weight\n",
            "Enter the value: kwjjwjw\n",
            "Invalid input! Please enter a numeric value.\n"
          ]
        }
      ],
      "source": [
        "def conversion():\n",
        "    \"\"\"\n",
        "    A simple unit conversion program that allows the user to convert:\n",
        "    - Length: meters to feet, feet to meters\n",
        "    - Weight: kilograms to pounds, pounds to kilograms\n",
        "    - Volume: liters to gallons, gallons to liters\n",
        "\n",
        "    The function prompts the user for the type of conversion, takes input,\n",
        "    and displays the converted value.\n",
        "    \"\"\"\n",
        "    print(\"Choose the type of conversion:\")\n",
        "    print(\"1. Length\")\n",
        "    print(\"2. Weight\")\n",
        "    print(\"3. Volume\")\n",
        "\n",
        "    choose = input(\"Enter length, weight, or volume: \").strip().lower()  #to Handle Input Variations like LENGTH OR length\n",
        "\n",
        "    try:\n",
        "        if choose == \"length\":\n",
        "            value = float(input(\"Enter the value: \"))\n",
        "            meters_to_feet = value * 3.28084\n",
        "            feet_to_meters = value * 0.3048\n",
        "            print(f\"{value} meters is {meters_to_feet:.2f} feet\")\n",
        "            print(f\"{value} feet is {feet_to_meters:.2f} meters\")\n",
        "\n",
        "        elif choose == \"weight\":\n",
        "            value = float(input(\"Enter the value: \"))\n",
        "            kg_to_pounds = value * 2.20462\n",
        "            pounds_to_kg = value * 0.453592\n",
        "            print(f\"{value} kg is {kg_to_pounds:.2f} lbs\")\n",
        "            print(f\"{value} lbs is {pounds_to_kg:.2f} kg\")\n",
        "\n",
        "        elif choose == \"volume\":\n",
        "            value = float(input(\"Enter the value: \"))\n",
        "            liters_to_gallons = value * 0.264172\n",
        "            gallons_to_liters = value * 3.78541\n",
        "            print(f\"{value} liters is {liters_to_gallons:.2f} gallons\")\n",
        "            print(f\"{value} gallons is {gallons_to_liters:.2f} liters\")\n",
        "\n",
        "        else:\n",
        "            print(\"Invalid choice. Please enter length, weight, or volume.\")\n",
        "\n",
        "    except ValueError:\n",
        "        print(\"Invalid input! Please enter a numeric value.\")\n",
        "\n",
        "# Run the function\n",
        "conversion()\n"
      ]
    },
    {
      "cell_type": "markdown",
      "source": [
        "## Create a Python program that performs various mathematical operations on list of numbers."
      ],
      "metadata": {
        "id": "3wvy7Zoo2DpJ"
      }
    },
    {
      "cell_type": "code",
      "source": [
        "def sum_list(numbers):\n",
        "    \"\"\"Calculate the sum of a list of numbers.\n",
        "\n",
        "    Args:\n",
        "        numbers (list): A list of numeric values.\n",
        "\n",
        "    Returns:\n",
        "        float: The sum of the numbers.\n",
        "    \"\"\"\n",
        "    return sum(numbers)\n",
        "\n",
        "def average_list(numbers):\n",
        "    \"\"\"Calculate the average of a list of numbers.\n",
        "\n",
        "    Args:\n",
        "        numbers (list): A list of numeric values.\n",
        "\n",
        "    Returns:\n",
        "        float: The average of the numbers.\n",
        "    \"\"\"\n",
        "    return sum(numbers) / len(numbers)\n",
        "\n",
        "def maximum_list(numbers):\n",
        "    \"\"\"Find the maximum value in a list of numbers.\n",
        "\n",
        "    Args:\n",
        "        numbers (list): A list of numeric values.\n",
        "\n",
        "    Returns:\n",
        "        float: The maximum value in the list.\n",
        "    \"\"\"\n",
        "    return max(numbers)\n",
        "\n",
        "def minimum_list(numbers):\n",
        "    \"\"\"Find the minimum value in a list of numbers.\n",
        "\n",
        "    Args:\n",
        "        numbers (list): A list of numeric values.\n",
        "\n",
        "    Returns:\n",
        "        float: The minimum value in the list.\n",
        "    \"\"\"\n",
        "    return min(numbers)\n",
        "\n",
        "def main():\n",
        "    # Display operation menu\n",
        "    print(\"Select an operation:\")\n",
        "    print(\"1. Sum\")\n",
        "    print(\"2. Average\")\n",
        "    print(\"3. Maximum\")\n",
        "    print(\"4. Minimum\")\n",
        "\n",
        "    # Get operation choice\n",
        "    choice = input(\"\\nEnter your choice (1-4): \").strip()\n",
        "\n",
        "    # Validate operation choice\n",
        "    if choice not in ['1', '2', '3', '4']:\n",
        "        print(\"\\nError: Invalid operation selection.\")\n",
        "        return\n",
        "\n",
        "    # Get numbers input\n",
        "    try:\n",
        "        nums_input = input(\"\\nEnter numbers separated by spaces: \")\n",
        "        num_strings = nums_input.split()\n",
        "\n",
        "        if not num_strings:\n",
        "            raise ValueError(\"Empty list\")\n",
        "\n",
        "        numbers = [float(num) for num in num_strings]\n",
        "\n",
        "    except ValueError as e:\n",
        "        if str(e) == \"Empty list\":\n",
        "            print(\"\\nError: No numbers entered.\")\n",
        "        else:\n",
        "            print(\"\\nError: Non-numeric value detected.\")\n",
        "        return\n",
        "\n",
        "    # Perform selected operation\n",
        "    try:\n",
        "        if choice == '1':\n",
        "            result = sum_list(numbers)\n",
        "        elif choice == '2':\n",
        "            result = average_list(numbers)\n",
        "        elif choice == '3':\n",
        "            result = maximum_list(numbers)\n",
        "        elif choice == '4':\n",
        "            result = minimum_list(numbers)\n",
        "\n",
        "        # Display result with formatting\n",
        "        print(f\"\\nResult: {result:.2f}\")  # Rounded to 2 decimal places\n",
        "\n",
        "    except ZeroDivisionError:\n",
        "        print(\"\\nError: Cannot calculate average of an empty list.\")\n",
        "    except Exception as e:\n",
        "        print(f\"\\nAn unexpected error occurred: {e}\")\n",
        "\n",
        "main()"
      ],
      "metadata": {
        "colab": {
          "base_uri": "https://localhost:8080/"
        },
        "id": "U5Uv1dheHft8",
        "outputId": "f2d3a895-a043-4a6f-a45a-e5b49bbd323c"
      },
      "execution_count": 14,
      "outputs": [
        {
          "output_type": "stream",
          "name": "stdout",
          "text": [
            "Select an operation:\n",
            "1. Sum\n",
            "2. Average\n",
            "3. Maximum\n",
            "4. Minimum\n",
            "\n",
            "Enter your choice (1-4): 1\n",
            "\n",
            "Enter numbers separated by spaces: uyiuyi\n",
            "\n",
            "Error: Non-numeric value detected.\n"
          ]
        }
      ]
    },
    {
      "cell_type": "markdown",
      "source": [
        "# 4.2 Exercise on List Manipulation"
      ],
      "metadata": {
        "id": "lgkm4CJZMHM_"
      }
    },
    {
      "cell_type": "markdown",
      "source": [
        "## 1. Write a Python function that extracts every other element from a list, starting from the first element."
      ],
      "metadata": {
        "id": "4xSYMuxZMRlT"
      }
    },
    {
      "cell_type": "code",
      "source": [
        "def extract_every_other(lst):\n",
        "\n",
        "  return lst[::2]\n",
        "# Get user input, split it, and convert to integers\n",
        "user_input = list(map(int, input(\"Enter numbers separated by space: \").split()))\n",
        "\n",
        "print(\"Original list:\", user_input)\n",
        "\n",
        "new_list = extract_every_other(user_input)\n",
        "print(\"New list: \", new_list)\n",
        "\n",
        "\n"
      ],
      "metadata": {
        "colab": {
          "base_uri": "https://localhost:8080/"
        },
        "id": "JHSy-on_Oqke",
        "outputId": "f3c39e45-5bd9-4438-e069-ca454838a3ca"
      },
      "execution_count": 79,
      "outputs": [
        {
          "output_type": "stream",
          "name": "stdout",
          "text": [
            "Enter numbers separated by space: 1 2 3 4 5 6 \n",
            "Original list: [1, 2, 3, 4, 5, 6]\n",
            "New list:  [6, 4, 2]\n"
          ]
        }
      ]
    },
    {
      "cell_type": "markdown",
      "source": [
        "## 2.  Write a Python function that returns a sublist from a given list, starting from a specified index and ending at another specified index."
      ],
      "metadata": {
        "id": "5pXFS_hloJ68"
      }
    },
    {
      "cell_type": "code",
      "source": [
        "def get_sublist(lst, start, end):\n",
        "    return lst[start:end + 1]  # Slicing from start to end (inclusive)\n",
        "\n",
        "# Example usage\n",
        "input_list = [1, 2, 3, 4, 5, 6]\n",
        "start_index = 2\n",
        "end_index = 4\n",
        "\n",
        "print(\"Original list:\", input_list)\n",
        "sub_list = get_sublist(input_list, start_index, end_index)\n",
        "print(\"Sublist:\", sub_list)"
      ],
      "metadata": {
        "colab": {
          "base_uri": "https://localhost:8080/"
        },
        "id": "z0Ys9er7oDat",
        "outputId": "80f62a91-39f4-47f5-8e24-6edf2200ac79"
      },
      "execution_count": 27,
      "outputs": [
        {
          "output_type": "stream",
          "name": "stdout",
          "text": [
            "Original list: [1, 2, 3, 4, 5, 6]\n",
            "Sublist: [3, 4, 5]\n"
          ]
        }
      ]
    },
    {
      "cell_type": "markdown",
      "source": [
        "## 3. Write a Python function that reverses a list using slicing."
      ],
      "metadata": {
        "id": "y-SKjbSFrJnC"
      }
    },
    {
      "cell_type": "code",
      "source": [
        "def reverse_list(lst):\n",
        "   return lst[::-1]\n",
        "input_list = [1, 2, 3, 4, 5]\n",
        "print(\"Original list:\", input_list)\n",
        "reverseList = reverse_list(input_list)\n",
        "print(\"Reverse list: \",reverseList)\n"
      ],
      "metadata": {
        "colab": {
          "base_uri": "https://localhost:8080/"
        },
        "id": "F_Eh6JgIrYKb",
        "outputId": "b1b758a1-9076-4cfb-9b76-d2c2c26d1d42"
      },
      "execution_count": 78,
      "outputs": [
        {
          "output_type": "stream",
          "name": "stdout",
          "text": [
            "Original list: [1, 2, 3, 4, 5]\n",
            "Reverse list:  [5, 4, 3, 2, 1]\n"
          ]
        }
      ]
    },
    {
      "cell_type": "markdown",
      "source": [
        "## 4.  Remove the First and Last Elements\n",
        "\n",
        "\n",
        "\n"
      ],
      "metadata": {
        "id": "FNyKkzCCtUzV"
      }
    },
    {
      "cell_type": "code",
      "source": [
        "def remove_first_last(lst):\n",
        "    return lst[1:-1]  # Slicing to exclude the first and last elements\n",
        "\n",
        "# Example usage\n",
        "input_list = [1, 2, 3, 4, 5]\n",
        "print(\"Original List:\", input_list)\n",
        "output_list = remove_first_last(input_list)\n",
        "print(\"Output List:\", output_list)"
      ],
      "metadata": {
        "colab": {
          "base_uri": "https://localhost:8080/"
        },
        "id": "l7SfE2ZSteLP",
        "outputId": "6293a844-708a-4efc-885c-cbf0f05be525"
      },
      "execution_count": 52,
      "outputs": [
        {
          "output_type": "stream",
          "name": "stdout",
          "text": [
            "Original List: [1, 2, 3, 4, 5]\n",
            "Output List: [2, 3, 4]\n"
          ]
        }
      ]
    },
    {
      "cell_type": "markdown",
      "source": [
        "## 5. Write a Python function that extracts the first n elements from a list."
      ],
      "metadata": {
        "id": "JyGrEh6hymhB"
      }
    },
    {
      "cell_type": "code",
      "source": [
        "def get_first_n(lst, n):\n",
        "  return lst[:n]\n",
        "\n",
        "input_list = [1, 2, 3, 4, 5, 6]\n",
        "n = 3\n",
        "print(\"Original list:\", input_list)\n",
        "Output = get_first_n(input_list, n)\n",
        "print(\"First Element list:\", Output)"
      ],
      "metadata": {
        "colab": {
          "base_uri": "https://localhost:8080/"
        },
        "id": "7iyrsi22y5Hu",
        "outputId": "acd71716-297a-49c7-903e-6e442d26407a"
      },
      "execution_count": 55,
      "outputs": [
        {
          "output_type": "stream",
          "name": "stdout",
          "text": [
            "Original list: [1, 2, 3, 4, 5, 6]\n",
            "Result: [1, 2, 3]\n"
          ]
        }
      ]
    },
    {
      "cell_type": "markdown",
      "source": [
        "## 6. Write a Python function that extracts the last n elements of a list using slicing."
      ],
      "metadata": {
        "id": "_utooI8o1bzV"
      }
    },
    {
      "cell_type": "code",
      "source": [
        "def get_last_n(lst, n):\n",
        "  return lst[-n:]\n",
        "\n",
        "input_list = [1,2,3,4,5]\n",
        "n = 2\n",
        "print(\"Original list:\",input_list)\n",
        "Output = get_last_n(input_list,n)\n",
        "print(\"Last Element list: \",Output)"
      ],
      "metadata": {
        "colab": {
          "base_uri": "https://localhost:8080/"
        },
        "id": "VLUJ1Qhi13QM",
        "outputId": "811f1ce1-2e12-4c6e-ad2e-6fd55e6900e1"
      },
      "execution_count": 75,
      "outputs": [
        {
          "output_type": "stream",
          "name": "stdout",
          "text": [
            "Original list: [1, 2, 3, 4, 5]\n",
            "Last Element list:  [4, 5]\n"
          ]
        }
      ]
    },
    {
      "cell_type": "markdown",
      "source": [
        "## 7. Write a Python function that extracts a list of elements in reverse order starting from the second-to-last element and skipping one element in between."
      ],
      "metadata": {
        "id": "Q1Yu9h1n4dWG"
      }
    },
    {
      "cell_type": "code",
      "source": [
        "def reverse_skip(lst):\n",
        "  return lst[-2::-2]\n",
        "\n",
        "input_list = [1,2,3,4,5,6]\n",
        "\n",
        "print(\"Original list:\", input_list)\n",
        "\n",
        "new_list = reverse_skip(input_list)\n",
        "print(\"Reverse skip list: \", new_list)"
      ],
      "metadata": {
        "colab": {
          "base_uri": "https://localhost:8080/"
        },
        "id": "AI_hgZu94zsD",
        "outputId": "548c844a-4392-4679-e3b8-8e8bd73e4428"
      },
      "execution_count": 100,
      "outputs": [
        {
          "output_type": "stream",
          "name": "stdout",
          "text": [
            "Original list: [1, 2, 3, 4, 5, 6]\n",
            "Reverse skip list:  [5, 3, 1]\n"
          ]
        }
      ]
    },
    {
      "cell_type": "markdown",
      "source": [
        "# 4.3 Exercise on Nested List"
      ],
      "metadata": {
        "id": "emx7vHmb75Kp"
      }
    },
    {
      "cell_type": "code",
      "source": [],
      "metadata": {
        "id": "pPmTbmdZ78Sc"
      },
      "execution_count": null,
      "outputs": []
    }
  ]
}